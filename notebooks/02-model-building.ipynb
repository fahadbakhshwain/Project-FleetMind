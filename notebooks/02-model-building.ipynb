{
 "cells": [
  {
   "cell_type": "code",
   "execution_count": 17,
   "id": "00532ba0",
   "metadata": {},
   "outputs": [
    {
     "name": "stdout",
     "output_type": "stream",
     "text": [
      "Data loaded and cleaned for modeling.\n",
      "Shape of the modeling dataframe: (17379, 11)\n"
     ]
    },
    {
     "data": {
      "text/html": [
       "<div>\n",
       "<style scoped>\n",
       "    .dataframe tbody tr th:only-of-type {\n",
       "        vertical-align: middle;\n",
       "    }\n",
       "\n",
       "    .dataframe tbody tr th {\n",
       "        vertical-align: top;\n",
       "    }\n",
       "\n",
       "    .dataframe thead th {\n",
       "        text-align: right;\n",
       "    }\n",
       "</style>\n",
       "<table border=\"1\" class=\"dataframe\">\n",
       "  <thead>\n",
       "    <tr style=\"text-align: right;\">\n",
       "      <th></th>\n",
       "      <th>yr</th>\n",
       "      <th>mnth</th>\n",
       "      <th>hr</th>\n",
       "      <th>holiday</th>\n",
       "      <th>weekday</th>\n",
       "      <th>workingday</th>\n",
       "      <th>weathersit</th>\n",
       "      <th>temp</th>\n",
       "      <th>hum</th>\n",
       "      <th>windspeed</th>\n",
       "      <th>cnt</th>\n",
       "    </tr>\n",
       "  </thead>\n",
       "  <tbody>\n",
       "    <tr>\n",
       "      <th>0</th>\n",
       "      <td>0</td>\n",
       "      <td>1</td>\n",
       "      <td>0</td>\n",
       "      <td>0</td>\n",
       "      <td>6</td>\n",
       "      <td>0</td>\n",
       "      <td>1</td>\n",
       "      <td>0.24</td>\n",
       "      <td>0.81</td>\n",
       "      <td>0.0</td>\n",
       "      <td>16</td>\n",
       "    </tr>\n",
       "    <tr>\n",
       "      <th>1</th>\n",
       "      <td>0</td>\n",
       "      <td>1</td>\n",
       "      <td>1</td>\n",
       "      <td>0</td>\n",
       "      <td>6</td>\n",
       "      <td>0</td>\n",
       "      <td>1</td>\n",
       "      <td>0.22</td>\n",
       "      <td>0.80</td>\n",
       "      <td>0.0</td>\n",
       "      <td>40</td>\n",
       "    </tr>\n",
       "    <tr>\n",
       "      <th>2</th>\n",
       "      <td>0</td>\n",
       "      <td>1</td>\n",
       "      <td>2</td>\n",
       "      <td>0</td>\n",
       "      <td>6</td>\n",
       "      <td>0</td>\n",
       "      <td>1</td>\n",
       "      <td>0.22</td>\n",
       "      <td>0.80</td>\n",
       "      <td>0.0</td>\n",
       "      <td>32</td>\n",
       "    </tr>\n",
       "    <tr>\n",
       "      <th>3</th>\n",
       "      <td>0</td>\n",
       "      <td>1</td>\n",
       "      <td>3</td>\n",
       "      <td>0</td>\n",
       "      <td>6</td>\n",
       "      <td>0</td>\n",
       "      <td>1</td>\n",
       "      <td>0.24</td>\n",
       "      <td>0.75</td>\n",
       "      <td>0.0</td>\n",
       "      <td>13</td>\n",
       "    </tr>\n",
       "    <tr>\n",
       "      <th>4</th>\n",
       "      <td>0</td>\n",
       "      <td>1</td>\n",
       "      <td>4</td>\n",
       "      <td>0</td>\n",
       "      <td>6</td>\n",
       "      <td>0</td>\n",
       "      <td>1</td>\n",
       "      <td>0.24</td>\n",
       "      <td>0.75</td>\n",
       "      <td>0.0</td>\n",
       "      <td>1</td>\n",
       "    </tr>\n",
       "  </tbody>\n",
       "</table>\n",
       "</div>"
      ],
      "text/plain": [
       "   yr  mnth  hr  holiday  weekday  workingday  weathersit  temp   hum  \\\n",
       "0   0     1   0        0        6           0           1  0.24  0.81   \n",
       "1   0     1   1        0        6           0           1  0.22  0.80   \n",
       "2   0     1   2        0        6           0           1  0.22  0.80   \n",
       "3   0     1   3        0        6           0           1  0.24  0.75   \n",
       "4   0     1   4        0        6           0           1  0.24  0.75   \n",
       "\n",
       "   windspeed  cnt  \n",
       "0        0.0   16  \n",
       "1        0.0   40  \n",
       "2        0.0   32  \n",
       "3        0.0   13  \n",
       "4        0.0    1  "
      ]
     },
     "metadata": {},
     "output_type": "display_data"
    }
   ],
   "source": [
    "# ------------------\n",
    "# Step 1: Load and Clean Data\n",
    "# ------------------\n",
    "import pandas as pd\n",
    "import numpy as np\n",
    "import matplotlib.pyplot as plt\n",
    "import seaborn as sns\n",
    "\n",
    "# Load the raw data USING THE CORRECT PATH\n",
    "df = pd.read_csv('../data/raw/hour.csv')\n",
    "# Perform the same cleaning steps as before\n",
    "# 1. Convert 'dteday' to datetime\n",
    "df['dteday'] = pd.to_datetime(df['dteday'])\n",
    "\n",
    "# 2. Drop redundant columns\n",
    "# We will keep 'mnth' and drop 'season' due to high correlation\n",
    "columns_to_drop = ['instant', 'dteday', 'season', 'atemp', 'casual', 'registered']\n",
    "df_model = df.drop(columns=columns_to_drop)\n",
    "\n",
    "print(\"Data loaded and cleaned for modeling.\")\n",
    "print(f\"Shape of the modeling dataframe: {df_model.shape}\")\n",
    "display(df_model.head())"
   ]
  },
  {
   "cell_type": "code",
   "execution_count": 18,
   "id": "2503cfc3",
   "metadata": {},
   "outputs": [
    {
     "name": "stdout",
     "output_type": "stream",
     "text": [
      "Features (X):\n"
     ]
    },
    {
     "data": {
      "text/html": [
       "<div>\n",
       "<style scoped>\n",
       "    .dataframe tbody tr th:only-of-type {\n",
       "        vertical-align: middle;\n",
       "    }\n",
       "\n",
       "    .dataframe tbody tr th {\n",
       "        vertical-align: top;\n",
       "    }\n",
       "\n",
       "    .dataframe thead th {\n",
       "        text-align: right;\n",
       "    }\n",
       "</style>\n",
       "<table border=\"1\" class=\"dataframe\">\n",
       "  <thead>\n",
       "    <tr style=\"text-align: right;\">\n",
       "      <th></th>\n",
       "      <th>yr</th>\n",
       "      <th>mnth</th>\n",
       "      <th>hr</th>\n",
       "      <th>holiday</th>\n",
       "      <th>weekday</th>\n",
       "      <th>workingday</th>\n",
       "      <th>weathersit</th>\n",
       "      <th>temp</th>\n",
       "      <th>hum</th>\n",
       "      <th>windspeed</th>\n",
       "    </tr>\n",
       "  </thead>\n",
       "  <tbody>\n",
       "    <tr>\n",
       "      <th>0</th>\n",
       "      <td>0</td>\n",
       "      <td>1</td>\n",
       "      <td>0</td>\n",
       "      <td>0</td>\n",
       "      <td>6</td>\n",
       "      <td>0</td>\n",
       "      <td>1</td>\n",
       "      <td>0.24</td>\n",
       "      <td>0.81</td>\n",
       "      <td>0.0</td>\n",
       "    </tr>\n",
       "    <tr>\n",
       "      <th>1</th>\n",
       "      <td>0</td>\n",
       "      <td>1</td>\n",
       "      <td>1</td>\n",
       "      <td>0</td>\n",
       "      <td>6</td>\n",
       "      <td>0</td>\n",
       "      <td>1</td>\n",
       "      <td>0.22</td>\n",
       "      <td>0.80</td>\n",
       "      <td>0.0</td>\n",
       "    </tr>\n",
       "    <tr>\n",
       "      <th>2</th>\n",
       "      <td>0</td>\n",
       "      <td>1</td>\n",
       "      <td>2</td>\n",
       "      <td>0</td>\n",
       "      <td>6</td>\n",
       "      <td>0</td>\n",
       "      <td>1</td>\n",
       "      <td>0.22</td>\n",
       "      <td>0.80</td>\n",
       "      <td>0.0</td>\n",
       "    </tr>\n",
       "    <tr>\n",
       "      <th>3</th>\n",
       "      <td>0</td>\n",
       "      <td>1</td>\n",
       "      <td>3</td>\n",
       "      <td>0</td>\n",
       "      <td>6</td>\n",
       "      <td>0</td>\n",
       "      <td>1</td>\n",
       "      <td>0.24</td>\n",
       "      <td>0.75</td>\n",
       "      <td>0.0</td>\n",
       "    </tr>\n",
       "    <tr>\n",
       "      <th>4</th>\n",
       "      <td>0</td>\n",
       "      <td>1</td>\n",
       "      <td>4</td>\n",
       "      <td>0</td>\n",
       "      <td>6</td>\n",
       "      <td>0</td>\n",
       "      <td>1</td>\n",
       "      <td>0.24</td>\n",
       "      <td>0.75</td>\n",
       "      <td>0.0</td>\n",
       "    </tr>\n",
       "  </tbody>\n",
       "</table>\n",
       "</div>"
      ],
      "text/plain": [
       "   yr  mnth  hr  holiday  weekday  workingday  weathersit  temp   hum  \\\n",
       "0   0     1   0        0        6           0           1  0.24  0.81   \n",
       "1   0     1   1        0        6           0           1  0.22  0.80   \n",
       "2   0     1   2        0        6           0           1  0.22  0.80   \n",
       "3   0     1   3        0        6           0           1  0.24  0.75   \n",
       "4   0     1   4        0        6           0           1  0.24  0.75   \n",
       "\n",
       "   windspeed  \n",
       "0        0.0  \n",
       "1        0.0  \n",
       "2        0.0  \n",
       "3        0.0  \n",
       "4        0.0  "
      ]
     },
     "metadata": {},
     "output_type": "display_data"
    },
    {
     "name": "stdout",
     "output_type": "stream",
     "text": [
      "\n",
      "Target (y):\n"
     ]
    },
    {
     "data": {
      "text/plain": [
       "0    16\n",
       "1    40\n",
       "2    32\n",
       "3    13\n",
       "4     1\n",
       "Name: cnt, dtype: int64"
      ]
     },
     "metadata": {},
     "output_type": "display_data"
    }
   ],
   "source": [
    "# ------------------\n",
    "# Step 2: Separate Features (X) and Target (y)\n",
    "# ------------------\n",
    "X = df_model.drop('cnt', axis=1) # All columns except 'cnt'\n",
    "y = df_model['cnt']              # Only the 'cnt' column\n",
    "\n",
    "print(\"Features (X):\")\n",
    "display(X.head())\n",
    "print(\"\\nTarget (y):\")\n",
    "display(y.head())"
   ]
  },
  {
   "cell_type": "code",
   "execution_count": 19,
   "id": "e8bf380f",
   "metadata": {},
   "outputs": [
    {
     "name": "stdout",
     "output_type": "stream",
     "text": [
      "Training set shape: (13903, 10)\n",
      "Testing set shape: (3476, 10)\n"
     ]
    }
   ],
   "source": [
    "# ------------------\n",
    "# Step 3: Split Data into Training and Testing Sets\n",
    "# ------------------\n",
    "from sklearn.model_selection import train_test_split\n",
    "\n",
    "# Split the data, with 80% for training and 20% for testing\n",
    "# random_state=42 ensures that we get the same split every time we run the code\n",
    "X_train, X_test, y_train, y_test = train_test_split(X, y, test_size=0.2, random_state=42)\n",
    "\n",
    "print(f\"Training set shape: {X_train.shape}\")\n",
    "print(f\"Testing set shape: {X_test.shape}\")"
   ]
  },
  {
   "cell_type": "code",
   "execution_count": 20,
   "id": "d41c6e1a",
   "metadata": {},
   "outputs": [
    {
     "name": "stdout",
     "output_type": "stream",
     "text": [
      "Training the Linear Regression model...\n",
      "Model trained successfully!\n",
      "\n",
      "--- Linear Regression Performance ---\n",
      "Mean Squared Error (MSE): 19554.52\n",
      "R-squared (R2 Score): 0.38\n"
     ]
    }
   ],
   "source": [
    "# ------------------\n",
    "# Step 4: Train our First Model - Linear Regression\n",
    "# ------------------\n",
    "from sklearn.linear_model import LinearRegression\n",
    "from sklearn.metrics import mean_squared_error, r2_score\n",
    "\n",
    "# 1. Create the model instance\n",
    "lr_model = LinearRegression()\n",
    "\n",
    "# 2. Train the model on the training data\n",
    "print(\"Training the Linear Regression model...\")\n",
    "lr_model.fit(X_train, y_train)\n",
    "print(\"Model trained successfully!\")\n",
    "\n",
    "# 3. Make predictions on the TEST set\n",
    "y_pred_lr = lr_model.predict(X_test)\n",
    "\n",
    "# 4. Evaluate the model's performance\n",
    "mse_lr = mean_squared_error(y_test, y_pred_lr)\n",
    "r2_lr = r2_score(y_test, y_pred_lr)\n",
    "\n",
    "print(f\"\\n--- Linear Regression Performance ---\")\n",
    "print(f\"Mean Squared Error (MSE): {mse_lr:.2f}\")\n",
    "print(f\"R-squared (R2 Score): {r2_lr:.2f}\")"
   ]
  },
  {
   "cell_type": "code",
   "execution_count": 21,
   "id": "928138a6",
   "metadata": {},
   "outputs": [
    {
     "name": "stdout",
     "output_type": "stream",
     "text": [
      "Training the Random Forest model... (This may take a moment)\n",
      "Model trained successfully!\n",
      "\n",
      "--- Random Forest Performance ---\n",
      "Mean Squared Error (MSE): 1852.63\n",
      "R-squared (R2 Score): 0.94\n",
      "\n",
      "--- Comparison ---\n",
      "Linear Regression R2: 0.38\n",
      "Random Forest R2:     0.94\n"
     ]
    }
   ],
   "source": [
    "# ------------------\n",
    "# Step 5: Train a More Powerful Model - Random Forest\n",
    "# ------------------\n",
    "from sklearn.ensemble import RandomForestRegressor\n",
    "\n",
    "# 1. Create the model instance\n",
    "# n_estimators=100 means it will build 100 \"decision trees\"\n",
    "# random_state=42 for reproducibility\n",
    "# n_jobs=-1 uses all available CPU cores to speed up training\n",
    "rf_model = RandomForestRegressor(n_estimators=100, random_state=42, n_jobs=-1)\n",
    "\n",
    "# 2. Train the model on the same training data\n",
    "print(\"Training the Random Forest model... (This may take a moment)\")\n",
    "rf_model.fit(X_train, y_train)\n",
    "print(\"Model trained successfully!\")\n",
    "\n",
    "# 3. Make predictions on the TEST set\n",
    "y_pred_rf = rf_model.predict(X_test)\n",
    "\n",
    "# 4. Evaluate the new model's performance\n",
    "mse_rf = mean_squared_error(y_test, y_pred_rf)\n",
    "r2_rf = r2_score(y_test, y_pred_rf)\n",
    "\n",
    "print(f\"\\n--- Random Forest Performance ---\")\n",
    "print(f\"Mean Squared Error (MSE): {mse_rf:.2f}\")\n",
    "print(f\"R-squared (R2 Score): {r2_rf:.2f}\")\n",
    "\n",
    "print(\"\\n--- Comparison ---\")\n",
    "print(f\"Linear Regression R2: {r2_lr:.2f}\")\n",
    "print(f\"Random Forest R2:     {r2_rf:.2f}\")"
   ]
  },
  {
   "cell_type": "code",
   "execution_count": null,
   "id": "70ea7ec0",
   "metadata": {},
   "outputs": [
    {
     "data": {
      "image/png": "[encoded data removed]",
      "text/plain": [
       "<Figure size 1200x800 with 1 Axes>"
      ]
     },
     "metadata": {},
     "output_type": "display_data"
    }
   ],
   "source": [
    "# ------------------\n",
    "# Step 6: Understand What the Model Learned - Feature Importance\n",
    "# ------------------\n",
    "\n",
    "# Get feature importances from the trained Random Forest model\n",
    "importances = rf_model.feature_importances_\n",
    "\n",
    "# Create a pandas Series for easier plotting\n",
    "feature_importance_df = pd.Series(importances, index=X_train.columns)\n",
    "\n",
    "# Sort the features by importance\n",
    "feature_importance_df = feature_importance_df.sort_values(ascending=False)\n",
    "\n",
    "# Plot the feature importances\n",
    "plt.figure(figsize=(12, 8))\n",
    "sns.barplot(x=feature_importance_df, y=feature_importance_df.index)\n",
    "plt.title('Feature Importance from Random Forest Model')\n",
    "plt.xlabel('Importance Score')\n",
    "plt.ylabel('Features')\n",
    "plt.show()"
   ]
  },
  {
   "cell_type": "code",
   "execution_count": null,
   "id": "9b1e1d58",
   "metadata": {},
   "outputs": [
    {
     "name": "stdout",
     "output_type": "stream",
     "text": [
      "\n",
      "CondaError: Run 'conda init' before 'conda activate'\n",
      "\n",
      "\n",
      "Note: you may need to restart the kernel to use updated packages.\n"
     ]
    }
   ],
   "source": [
    "conda activate fleetmind_env"
   ]
  },
  {
   "cell_type": "code",
   "execution_count": null,
   "id": "82419e59",
   "metadata": {},
   "outputs": [
    {
     "name": "stdout",
     "output_type": "stream",
     "text": [
      "no change     /opt/anaconda3/condabin/conda\n",
      "no change     /opt/anaconda3/bin/conda\n",
      "no change     /opt/anaconda3/bin/conda-env\n",
      "no change     /opt/anaconda3/bin/activate\n",
      "no change     /opt/anaconda3/bin/deactivate\n",
      "no change     /opt/anaconda3/etc/profile.d/conda.sh\n",
      "no change     /opt/anaconda3/etc/fish/conf.d/conda.fish\n",
      "no change     /opt/anaconda3/shell/condabin/Conda.psm1\n",
      "modified      /opt/anaconda3/shell/condabin/conda-hook.ps1\n",
      "no change     /opt/anaconda3/lib/python3.12/site-packages/xontrib/conda.xsh\n",
      "no change     /opt/anaconda3/etc/profile.d/conda.csh\n",
      "no change     /Users/fahadahmed/.zshrc\n",
      "\n",
      "==> For changes to take effect, close and re-open your current shell. <==\n",
      "\n",
      "\n",
      "Note: you may need to restart the kernel to use updated packages.\n"
     ]
    }
   ],
   "source": [
    "conda init zsh"
   ]
  },
  {
   "cell_type": "code",
   "execution_count": 22,
   "id": "c08071d4",
   "metadata": {},
   "outputs": [
    {
     "name": "stdout",
     "output_type": "stream",
     "text": [
      "\n",
      "CondaError: Run 'conda init' before 'conda activate'\n",
      "\n",
      "\n",
      "Note: you may need to restart the kernel to use updated packages.\n"
     ]
    }
   ],
   "source": [
    "conda activate fleetmind_env"
   ]
  },
  {
   "cell_type": "code",
   "execution_count": 23,
   "id": "0af1908e",
   "metadata": {},
   "outputs": [
    {
     "name": "stdout",
     "output_type": "stream",
     "text": [
      "Model saved successfully to: ../models/random_forest_demand_model.joblib\n"
     ]
    }
   ],
   "source": [
    "import joblib\n",
    "\n",
    "# Define the file path for the model\n",
    "model_filename = '../models/random_forest_demand_model.joblib'\n",
    "\n",
    "# Save the trained model\n",
    "joblib.dump(rf_model, model_filename)\n",
    "\n",
    "print(f\"Model saved successfully to: {model_filename}\")"
   ]
  },
  {
   "cell_type": "code",
   "execution_count": 24,
   "id": "cd20b9a5",
   "metadata": {},
   "outputs": [
    {
     "name": "stdout",
     "output_type": "stream",
     "text": [
      "Model saved successfully to: models/random_forest_demand_model.joblib\n"
     ]
    }
   ],
   "source": [
    "import joblib\n",
    "import os\n",
    "\n",
    "# --- Step 1: Define the correct path ---\n",
    "# The models directory is at the root of our project\n",
    "models_directory = 'models'\n",
    "model_filename = os.path.join(models_directory, 'random_forest_demand_model.joblib')\n",
    "\n",
    "# --- Step 2: Create the directory if it doesn't exist (Best Practice) ---\n",
    "os.makedirs(models_directory, exist_ok=True)\n",
    "\n",
    "# --- Step 3: Save the trained model ---\n",
    "joblib.dump(rf_model, model_filename)\n",
    "\n",
    "print(f\"Model saved successfully to: {model_filename}\")"
   ]
  },
  {
   "cell_type": "code",
   "execution_count": 25,
   "id": "a4e439f6",
   "metadata": {},
   "outputs": [
    {
     "name": "stdout",
     "output_type": "stream",
     "text": [
      "Model saved successfully to: ../models/random_forest_demand_model.joblib\n"
     ]
    }
   ],
   "source": [
    "import joblib\n",
    "\n",
    "# Define the path to save the model\n",
    "model_path = '../models/random_forest_demand_model.joblib'\n",
    "\n",
    "# Save the trained model to the file\n",
    "joblib.dump(rf_model, model_path)\n",
    "\n",
    "print(f\"Model saved successfully to: {model_path}\")"
   ]
  }
 ],
 "metadata": {
  "kernelspec": {
   "display_name": "fleetmind_env",
   "language": "python",
   "name": "python3"
  },
  "language_info": {
   "codemirror_mode": {
    "name": "ipython",
    "version": 3
   },
   "file_extension": ".py",
   "mimetype": "text/x-python",
   "name": "python",
   "nbconvert_exporter": "python",
   "pygments_lexer": "ipython3",
   "version": "3.9.23"
  }
 },
 "nbformat": 4,
 "nbformat_minor": 5
}
